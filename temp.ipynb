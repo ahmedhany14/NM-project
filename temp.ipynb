{
 "cells": [
  {
   "cell_type": "code",
   "execution_count": 11,
   "metadata": {},
   "outputs": [
    {
     "data": {
      "text/plain": [
       "1"
      ]
     },
     "execution_count": 11,
     "metadata": {},
     "output_type": "execute_result"
    }
   ],
   "source": [
    "import numpy as np\n",
    "import sympy as sp\n",
    "import pandas as pd\n",
    "\n",
    "func = \"y**2 + 2 * y + 1\"\n",
    "\n",
    "eval(func, {\"y\": 0})"
   ]
  },
  {
   "cell_type": "code",
   "execution_count": 19,
   "metadata": {},
   "outputs": [
    {
     "name": "stdout",
     "output_type": "stream",
     "text": [
      "Root is: -1.000058650970459\n"
     ]
    }
   ],
   "source": [
    "def bisection_method(a, b, Function, error, max_iterations=1000):\n",
    "\n",
    "    def func(x, fucntion_of_x):\n",
    "        return eval(fucntion_of_x, {\"x\": x})\n",
    "\n",
    "    if func(a, Function) * func(b, Function) >= 0:\n",
    "        return None, None\n",
    "\n",
    "    c, it, condition = (a + b) / 2, 0, True\n",
    "\n",
    "    columns = {\n",
    "        \"Iteration\": [],\n",
    "        \"a\": [],\n",
    "        \"b\": [],\n",
    "        \"c\": [],\n",
    "        \"f(a)\": [],\n",
    "        \"f(b)\": [],\n",
    "        \"f(c)\": [],\n",
    "        \"error\": [],\n",
    "    }\n",
    "    table_of_iterations = pd.DataFrame(columns=columns)\n",
    "    while (condition or func(c, Function) >= error) and it < max_iterations:\n",
    "\n",
    "        # Find middle point\n",
    "        c = (a + b) / 2\n",
    "        it += 1\n",
    "        # Check if middle point is root\n",
    "\n",
    "        if func(c, Function) == 0.0:\n",
    "            break\n",
    "\n",
    "        if func(a, Function) * func(b, Function) >= 0:\n",
    "            return None, None\n",
    "\n",
    "        # Decide the side to repeat the steps\n",
    "        if func(c, Function) * func(a, Function) < 0:\n",
    "            b = c\n",
    "        else:\n",
    "            a = c\n",
    "\n",
    "        condition = abs(b - a) >= error\n",
    "\n",
    "        data = {\n",
    "            \"Iteration\": [it],\n",
    "            \"a\": a,\n",
    "            \"b\": b,\n",
    "            \"c\": c,\n",
    "            \"f(a)\": func(a, Function),\n",
    "            \"f(b)\": func(b, Function),\n",
    "            \"f(c)\": func(c, Function),\n",
    "            \"error\": abs(b - a),\n",
    "        }\n",
    "\n",
    "        table_of_iterations.loc[len(table_of_iterations)] = data\n",
    "    return c, table_of_iterations\n",
    "\n",
    "\n",
    "f = \"x ** 3 - x ** 2 + 2\"\n",
    "a = -200\n",
    "b = 300\n",
    "error = 0.0001\n",
    "\n",
    "c, df = bisection_method(a, b, f, error)\n",
    "df"
   ]
  },
  {
   "cell_type": "code",
   "execution_count": null,
   "metadata": {},
   "outputs": [],
   "source": []
  }
 ],
 "metadata": {
  "kernelspec": {
   "display_name": "Python 3",
   "language": "python",
   "name": "python3"
  },
  "language_info": {
   "codemirror_mode": {
    "name": "ipython",
    "version": 3
   },
   "file_extension": ".py",
   "mimetype": "text/x-python",
   "name": "python",
   "nbconvert_exporter": "python",
   "pygments_lexer": "ipython3",
   "version": "3.10.12"
  }
 },
 "nbformat": 4,
 "nbformat_minor": 2
}
